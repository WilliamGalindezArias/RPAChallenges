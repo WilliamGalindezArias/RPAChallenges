{
 "cells": [
  {
   "cell_type": "code",
   "execution_count": 5,
   "metadata": {},
   "outputs": [],
   "source": [
    "from selenium import webdriver\n",
    "import chromedriver_binary\n",
    "import pandas as pd\n",
    "import time\n"
   ]
  },
  {
   "cell_type": "code",
   "execution_count": 8,
   "metadata": {},
   "outputs": [],
   "source": [
    "dataset = pd.read_excel(\"data/challenge.xlsx\")"
   ]
  },
  {
   "cell_type": "code",
   "execution_count": 49,
   "metadata": {},
   "outputs": [
    {
     "data": {
      "text/html": [
       "<div>\n",
       "<style scoped>\n",
       "    .dataframe tbody tr th:only-of-type {\n",
       "        vertical-align: middle;\n",
       "    }\n",
       "\n",
       "    .dataframe tbody tr th {\n",
       "        vertical-align: top;\n",
       "    }\n",
       "\n",
       "    .dataframe thead th {\n",
       "        text-align: right;\n",
       "    }\n",
       "</style>\n",
       "<table border=\"1\" class=\"dataframe\">\n",
       "  <thead>\n",
       "    <tr style=\"text-align: right;\">\n",
       "      <th></th>\n",
       "      <th>First Name</th>\n",
       "      <th>Last Name</th>\n",
       "      <th>Company Name</th>\n",
       "      <th>Role in Company</th>\n",
       "      <th>Address</th>\n",
       "      <th>Email</th>\n",
       "      <th>Phone Number</th>\n",
       "    </tr>\n",
       "  </thead>\n",
       "  <tbody>\n",
       "    <tr>\n",
       "      <th>0</th>\n",
       "      <td>John</td>\n",
       "      <td>Smith</td>\n",
       "      <td>IT Solutions</td>\n",
       "      <td>Analyst</td>\n",
       "      <td>98 North Road</td>\n",
       "      <td>jsmith@itsolutions.co.uk</td>\n",
       "      <td>40716543298</td>\n",
       "    </tr>\n",
       "    <tr>\n",
       "      <th>1</th>\n",
       "      <td>Jane</td>\n",
       "      <td>Dorsey</td>\n",
       "      <td>MediCare</td>\n",
       "      <td>Medical Engineer</td>\n",
       "      <td>11 Crown Street</td>\n",
       "      <td>jdorsey@mc.com</td>\n",
       "      <td>40791345621</td>\n",
       "    </tr>\n",
       "    <tr>\n",
       "      <th>2</th>\n",
       "      <td>Albert</td>\n",
       "      <td>Kipling</td>\n",
       "      <td>Waterfront</td>\n",
       "      <td>Accountant</td>\n",
       "      <td>22 Guild Street</td>\n",
       "      <td>kipling@waterfront.com</td>\n",
       "      <td>40735416854</td>\n",
       "    </tr>\n",
       "    <tr>\n",
       "      <th>3</th>\n",
       "      <td>Michael</td>\n",
       "      <td>Robertson</td>\n",
       "      <td>MediCare</td>\n",
       "      <td>IT Specialist</td>\n",
       "      <td>17 Farburn Terrace</td>\n",
       "      <td>mrobertson@mc.com</td>\n",
       "      <td>40733652145</td>\n",
       "    </tr>\n",
       "    <tr>\n",
       "      <th>4</th>\n",
       "      <td>Doug</td>\n",
       "      <td>Derrick</td>\n",
       "      <td>Timepath Inc.</td>\n",
       "      <td>Analyst</td>\n",
       "      <td>99 Shire Oak Road</td>\n",
       "      <td>dderrick@timepath.co.uk</td>\n",
       "      <td>40799885412</td>\n",
       "    </tr>\n",
       "  </tbody>\n",
       "</table>\n",
       "</div>"
      ],
      "text/plain": [
       "  First Name Last Name    Company Name   Role in Company             Address  \\\n",
       "0       John      Smith   IT Solutions           Analyst       98 North Road   \n",
       "1       Jane     Dorsey       MediCare  Medical Engineer     11 Crown Street   \n",
       "2     Albert    Kipling     Waterfront        Accountant     22 Guild Street   \n",
       "3    Michael  Robertson       MediCare     IT Specialist  17 Farburn Terrace   \n",
       "4       Doug    Derrick  Timepath Inc.           Analyst   99 Shire Oak Road   \n",
       "\n",
       "                      Email  Phone Number  \n",
       "0  jsmith@itsolutions.co.uk   40716543298  \n",
       "1            jdorsey@mc.com   40791345621  \n",
       "2    kipling@waterfront.com   40735416854  \n",
       "3         mrobertson@mc.com   40733652145  \n",
       "4   dderrick@timepath.co.uk   40799885412  "
      ]
     },
     "execution_count": 49,
     "metadata": {},
     "output_type": "execute_result"
    }
   ],
   "source": [
    "dataset.head()"
   ]
  },
  {
   "cell_type": "code",
   "execution_count": 29,
   "metadata": {},
   "outputs": [
    {
     "name": "stdout",
     "output_type": "stream",
     "text": [
      "{'First Name': ['John', 'Jane', 'Albert', 'Michael', 'Doug', 'Jessie', 'Stan', 'Michelle', 'Stacy', 'Lara'], 'Last Name ': ['Smith', 'Dorsey', 'Kipling', 'Robertson', 'Derrick', 'Marlowe', 'Hamm', 'Norton', 'Shelby', 'Palmer'], 'Company Name': ['IT Solutions', 'MediCare', 'Waterfront', 'MediCare', 'Timepath Inc.', 'Aperture Inc.', 'Sugarwell', 'Aperture Inc.', 'TechDev', 'Timepath Inc.'], 'Role in Company': ['Analyst', 'Medical Engineer', 'Accountant', 'IT Specialist', 'Analyst', 'Scientist', 'Advisor', 'Scientist', 'HR Manager', 'Programmer'], 'Address': ['98 North Road', '11 Crown Street', '22 Guild Street', '17 Farburn Terrace', '99 Shire Oak Road', '27 Cheshire Street', '10 Dam Road', '13 White Rabbit Street', '19 Pineapple Boulevard', '87 Orange Street'], 'Email': ['jsmith@itsolutions.co.uk', 'jdorsey@mc.com', 'kipling@waterfront.com', 'mrobertson@mc.com', 'dderrick@timepath.co.uk', 'jmarlowe@aperture.us', 'shamm@sugarwell.org', 'mnorton@aperture.us', 'sshelby@techdev.com', 'lpalmer@timepath.co.uk'], 'Phone Number': [40716543298, 40791345621, 40735416854, 40733652145, 40799885412, 40733154268, 40712462257, 40731254562, 40741785214, 40731653845]}\n"
     ]
    }
   ],
   "source": [
    "data_dict = dataset.to_dict(orient='list')\n",
    "print(data_dict)"
   ]
  },
  {
   "cell_type": "code",
   "execution_count": 26,
   "metadata": {},
   "outputs": [
    {
     "name": "stdout",
     "output_type": "stream",
     "text": [
      "['John', 'Jane', 'Albert', 'Michael', 'Doug', 'Jessie', 'Stan', 'Michelle', 'Stacy', 'Lara']\n",
      "10\n"
     ]
    }
   ],
   "source": [
    "print(data_dict['First Name'])\n",
    "print(len(data_dict['First Name']))"
   ]
  },
  {
   "cell_type": "code",
   "execution_count": 85,
   "metadata": {},
   "outputs": [
    {
     "name": "stdout",
     "output_type": "stream",
     "text": [
      "John Smith IT Solutions Analyst 98 North Road jsmith@itsolutions.co.uk 40716543298 \n",
      "\n",
      "Jane Dorsey MediCare Medical Engineer 11 Crown Street jdorsey@mc.com 40791345621 \n",
      "\n",
      "Albert Kipling Waterfront Accountant 22 Guild Street kipling@waterfront.com 40735416854 \n",
      "\n",
      "Michael Robertson MediCare IT Specialist 17 Farburn Terrace mrobertson@mc.com 40733652145 \n",
      "\n",
      "Doug Derrick Timepath Inc. Analyst 99 Shire Oak Road dderrick@timepath.co.uk 40799885412 \n",
      "\n",
      "Jessie Marlowe Aperture Inc. Scientist 27 Cheshire Street jmarlowe@aperture.us 40733154268 \n",
      "\n",
      "Stan Hamm Sugarwell Advisor 10 Dam Road shamm@sugarwell.org 40712462257 \n",
      "\n",
      "Michelle Norton Aperture Inc. Scientist 13 White Rabbit Street mnorton@aperture.us 40731254562 \n",
      "\n",
      "Stacy Shelby TechDev HR Manager 19 Pineapple Boulevard sshelby@techdev.com 40741785214 \n",
      "\n",
      "Lara Palmer Timepath Inc. Programmer 87 Orange Street lpalmer@timepath.co.uk 40731653845 \n",
      "\n"
     ]
    }
   ],
   "source": [
    "for index in range(0, len(data_dict['First Name'])):\n",
    "    print(data_dict['First Name'][index], \n",
    "          data_dict['Last Name '][index],\n",
    "          data_dict['Company Name'][index],\n",
    "          data_dict['Role in Company'][index],\n",
    "          data_dict['Address'][index],\n",
    "          data_dict['Email'][index],\n",
    "          data_dict['Phone Number'][index],\n",
    "          \n",
    "          '\\n')"
   ]
  },
  {
   "cell_type": "code",
   "execution_count": 2,
   "metadata": {},
   "outputs": [],
   "source": [
    "start_time = time.clock()\n",
    "driver = webdriver.Chrome()"
   ]
  },
  {
   "cell_type": "code",
   "execution_count": 56,
   "metadata": {},
   "outputs": [],
   "source": [
    "def filler(driver):\n",
    "    driver.get(\"http://rpachallenge.com/\")\n",
    "    start_time = time.clock()\n",
    "    box = \"//following-sibling::input\"\n",
    "    btn = \"//input[contains(@class,('btn btn-default'))]\"\n",
    "    for index in range(0, len(data_dict['First Name'])):\n",
    "        l_name = driver.find_element_by_xpath(\"//label[text()='Last Name']\"+box).send_keys(data_dict['First Name'][index])\n",
    "        time.sleep(1)\n",
    "        f_name = driver.find_element_by_xpath(\"//label[text()='First Name']\"+box).send_keys(data_dict['Last Name '][index])\n",
    "        time.sleep(1)\n",
    "        addr = driver.find_element_by_xpath(\"//label[text()='Address']\"+box).send_keys(data_dict['Address'][index])\n",
    "        time.sleep(1)\n",
    "        rol = driver.find_element_by_xpath(\"//label[text()='Role in Company']\"+box).send_keys(data_dict['Role in Company'][index])\n",
    "        time.sleep(2)\n",
    "        phone = driver.find_element_by_xpath(\"//label[text()='Phone Number']\"+box).send_keys(data_dict['Phone Number'][index])\n",
    "        time.sleep(2)\n",
    "        email = driver.find_element_by_xpath(\"//label[text()='Email']\"+box).send_keys(data_dict['Email'][index])\n",
    "        time.sleep(2)\n",
    "        cmp = driver.find_element_by_xpath(\"//label[text()='Company Name']\"+box).send_keys(data_dict['Company Name'][index])\n",
    "      \n",
    "        submit = driver.find_element_by_xpath(btn)\n",
    "        submit.click()\n",
    "        \n",
    "        time.sleep(2)\n",
    "        process_time = time.clock() - start_time\n",
    "        driver.quit()\n",
    "        return process_time\n",
    "        \n",
    "    "
   ]
  },
  {
   "cell_type": "code",
   "execution_count": 76,
   "metadata": {},
   "outputs": [],
   "source": [
    "def filler_out(driver, index):\n",
    "    #driver.get(\"http://rpachallenge.com/\")\n",
    "    start_time = time.clock()\n",
    "    box = \"//following-sibling::input\"\n",
    "    btn = \"//input[contains(@class,('btn btn-default'))]\"\n",
    "    \n",
    "    l_name = driver.find_element_by_xpath(\"//label[text()='Last Name']\"+box).send_keys(data_dict['First Name'][index])\n",
    "    #time.sleep(0.5)\n",
    "    f_name = driver.find_element_by_xpath(\"//label[text()='First Name']\"+box).send_keys(data_dict['Last Name '][index])\n",
    "    #time.sleep(0.5)\n",
    "    addr = driver.find_element_by_xpath(\"//label[text()='Address']\"+box).send_keys(data_dict['Address'][index])\n",
    "    #time.sleep(0.5)\n",
    "    rol = driver.find_element_by_xpath(\"//label[text()='Role in Company']\"+box).send_keys(data_dict['Role in Company'][index])\n",
    "    #time.sleep(0.5)\n",
    "    phone = driver.find_element_by_xpath(\"//label[text()='Phone Number']\"+box).send_keys(data_dict['Phone Number'][index])\n",
    "    #time.sleep(0.5)\n",
    "    email = driver.find_element_by_xpath(\"//label[text()='Email']\"+box).send_keys(data_dict['Email'][index])\n",
    "    #time.sleep(0.5)\n",
    "    cmp = driver.find_element_by_xpath(\"//label[text()='Company Name']\"+box).send_keys(data_dict['Company Name'][index])\n",
    "      \n",
    "    submit = driver.find_element_by_xpath(btn)\n",
    "    #time.sleep(0.5)\n",
    "    submit.click()\n",
    "        \n",
    "    time.sleep(0.2)\n",
    "    process_time = time.clock() - start_time\n",
    "        \n",
    "    return process_time"
   ]
  },
  {
   "cell_type": "code",
   "execution_count": 55,
   "metadata": {},
   "outputs": [],
   "source": [
    "\n"
   ]
  },
  {
   "cell_type": "code",
   "execution_count": 77,
   "metadata": {},
   "outputs": [],
   "source": [
    "\n",
    "driver = webdriver.Chrome()\n",
    "driver.get(\"http://rpachallenge.com/\")\n",
    "for row in range(0, len(data_dict['First Name'])):\n",
    "    #time.sleep(2)\n",
    "    if row <= (len(data_dict['First Name'])):\n",
    "        filler_out(driver, row)\n",
    "    "
   ]
  },
  {
   "cell_type": "code",
   "execution_count": 80,
   "metadata": {},
   "outputs": [],
   "source": [
    "driver = webdriver.Chrome()\n",
    "driver.get(\"http://rpachallenge.com/\")\n",
    "for row in range(0, len(data_dict['First Name'])):\n",
    "    filler_out(driver, row)\n",
    "    if row == len(data_dict['First Name'])-1:\n",
    "        driver.quit()\n",
    "    "
   ]
  },
  {
   "cell_type": "code",
   "execution_count": null,
   "metadata": {},
   "outputs": [],
   "source": []
  }
 ],
 "metadata": {
  "kernelspec": {
   "display_name": "Python 3",
   "language": "python",
   "name": "python3"
  },
  "language_info": {
   "codemirror_mode": {
    "name": "ipython",
    "version": 3
   },
   "file_extension": ".py",
   "mimetype": "text/x-python",
   "name": "python",
   "nbconvert_exporter": "python",
   "pygments_lexer": "ipython3",
   "version": "3.6.8"
  }
 },
 "nbformat": 4,
 "nbformat_minor": 2
}
