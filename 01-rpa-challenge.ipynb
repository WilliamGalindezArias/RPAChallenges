{
 "cells": [
  {
   "cell_type": "code",
   "execution_count": 1,
   "metadata": {},
   "outputs": [],
   "source": [
    "from selenium import webdriver\n",
    "import chromedriver_binary\n",
    "import pandas as pd\n",
    "import time\n"
   ]
  },
  {
   "cell_type": "code",
   "execution_count": 2,
   "metadata": {},
   "outputs": [],
   "source": [
    "dataset = pd.read_excel(\"data/challenge.xlsx\")"
   ]
  },
  {
   "cell_type": "code",
   "execution_count": 3,
   "metadata": {},
   "outputs": [],
   "source": [
    "data_dict = dataset.to_dict(orient='list')\n"
   ]
  },
  {
   "cell_type": "code",
   "execution_count": 27,
   "metadata": {},
   "outputs": [],
   "source": [
    "def filler_out(driver, index):\n",
    "    #start_time = time.clock()\n",
    "    box = \"//following-sibling::input\"\n",
    "    btn = \"//input[contains(@class,('btn btn-default'))]\"\n",
    "    \n",
    "    l_name = driver.find_element_by_xpath(\"//label[text()='Last Name']\"+box).send_keys(data_dict['Last Name '][index])\n",
    "   \n",
    "    f_name = driver.find_element_by_xpath(\"//label[text()='First Name']\"+box).send_keys(data_dict['First Name'][index])\n",
    "   \n",
    "    addr = driver.find_element_by_xpath(\"//label[text()='Address']\"+box).send_keys(data_dict['Address'][index])\n",
    "   \n",
    "    rol = driver.find_element_by_xpath(\"//label[text()='Role in Company']\"+box).send_keys(data_dict['Role in Company'][index])\n",
    "   \n",
    "    phone = driver.find_element_by_xpath(\"//label[text()='Phone Number']\"+box).send_keys(data_dict['Phone Number'][index])\n",
    "    \n",
    "    email = driver.find_element_by_xpath(\"//label[text()='Email']\"+box).send_keys(data_dict['Email'][index])\n",
    "    \n",
    "    cmp = driver.find_element_by_xpath(\"//label[text()='Company Name']\"+box).send_keys(data_dict['Company Name'][index])\n",
    "      \n",
    "    submit = driver.find_element_by_xpath(btn).click()\n",
    "    #submit.click()\n",
    "        \n",
    "    #time.sleep(0.2)\n",
    "    #process_time = time.clock() - start_time\n",
    "        \n",
    "    #return process_time"
   ]
  },
  {
   "cell_type": "code",
   "execution_count": 31,
   "metadata": {},
   "outputs": [],
   "source": [
    "driver = webdriver.Chrome()\n",
    "driver.get(\"http://rpachallenge.com/\")\n",
    "#start = driver.find_element_by_id(\"start\").click()\n",
    "driver.find_element_by_id(\"start\").click()\n",
    "for row in range(0, len(data_dict['First Name'])):\n",
    "    filler_out(driver, row)\n",
    "    #if row == len(data_dict['First Name'])-1:\n",
    "        #driver.quit()"
   ]
  },
  {
   "cell_type": "code",
   "execution_count": null,
   "metadata": {},
   "outputs": [],
   "source": []
  }
 ],
 "metadata": {
  "kernelspec": {
   "display_name": "Python 3",
   "language": "python",
   "name": "python3"
  },
  "language_info": {
   "codemirror_mode": {
    "name": "ipython",
    "version": 3
   },
   "file_extension": ".py",
   "mimetype": "text/x-python",
   "name": "python",
   "nbconvert_exporter": "python",
   "pygments_lexer": "ipython3",
   "version": "3.6.8"
  }
 },
 "nbformat": 4,
 "nbformat_minor": 2
}
